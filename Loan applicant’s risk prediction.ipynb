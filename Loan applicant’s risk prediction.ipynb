{
 "cells": [
  {
   "cell_type": "markdown",
   "id": "a78d1ba9",
   "metadata": {},
   "source": [
    "## Loan applicant’s risk classification"
   ]
  },
  {
   "cell_type": "code",
   "execution_count": 2,
   "id": "7211d735",
   "metadata": {},
   "outputs": [],
   "source": [
    "import pandas as pd\n",
    "import numpy as np\n",
    "import matplotlib.pyplot as plt\n",
    "%matplotlib inline\n",
    "import seaborn as sns\n",
    "import warnings\n",
    "warnings.filterwarnings('ignore')"
   ]
  },
  {
   "cell_type": "code",
   "execution_count": 3,
   "id": "74abb6d3",
   "metadata": {
    "scrolled": true
   },
   "outputs": [
    {
     "data": {
      "text/html": [
       "<div>\n",
       "<style scoped>\n",
       "    .dataframe tbody tr th:only-of-type {\n",
       "        vertical-align: middle;\n",
       "    }\n",
       "\n",
       "    .dataframe tbody tr th {\n",
       "        vertical-align: top;\n",
       "    }\n",
       "\n",
       "    .dataframe thead th {\n",
       "        text-align: right;\n",
       "    }\n",
       "</style>\n",
       "<table border=\"1\" class=\"dataframe\">\n",
       "  <thead>\n",
       "    <tr style=\"text-align: right;\">\n",
       "      <th></th>\n",
       "      <th>Age</th>\n",
       "      <th>Total Work Experience</th>\n",
       "      <th>Number of years in city</th>\n",
       "      <th>Cost to Request Ratio</th>\n",
       "      <th>Cibil score</th>\n",
       "      <th>Overdrafts past12months</th>\n",
       "      <th>Total bounces past12months</th>\n",
       "    </tr>\n",
       "  </thead>\n",
       "  <tbody>\n",
       "    <tr>\n",
       "      <th>0</th>\n",
       "      <td>40.50</td>\n",
       "      <td>2</td>\n",
       "      <td>6</td>\n",
       "      <td>0.842666</td>\n",
       "      <td>594</td>\n",
       "      <td>0</td>\n",
       "      <td>0</td>\n",
       "    </tr>\n",
       "    <tr>\n",
       "      <th>1</th>\n",
       "      <td>41.25</td>\n",
       "      <td>5</td>\n",
       "      <td>2</td>\n",
       "      <td>0.791667</td>\n",
       "      <td>754</td>\n",
       "      <td>0</td>\n",
       "      <td>0</td>\n",
       "    </tr>\n",
       "    <tr>\n",
       "      <th>2</th>\n",
       "      <td>39.50</td>\n",
       "      <td>5</td>\n",
       "      <td>2</td>\n",
       "      <td>0.727273</td>\n",
       "      <td>779</td>\n",
       "      <td>0</td>\n",
       "      <td>0</td>\n",
       "    </tr>\n",
       "    <tr>\n",
       "      <th>3</th>\n",
       "      <td>35.00</td>\n",
       "      <td>1</td>\n",
       "      <td>4</td>\n",
       "      <td>0.820232</td>\n",
       "      <td>818</td>\n",
       "      <td>0</td>\n",
       "      <td>0</td>\n",
       "    </tr>\n",
       "    <tr>\n",
       "      <th>4</th>\n",
       "      <td>34.00</td>\n",
       "      <td>3</td>\n",
       "      <td>3</td>\n",
       "      <td>0.455581</td>\n",
       "      <td>853</td>\n",
       "      <td>0</td>\n",
       "      <td>1</td>\n",
       "    </tr>\n",
       "  </tbody>\n",
       "</table>\n",
       "</div>"
      ],
      "text/plain": [
       "     Age  Total Work Experience  Number of years in city  \\\n",
       "0  40.50                      2                        6   \n",
       "1  41.25                      5                        2   \n",
       "2  39.50                      5                        2   \n",
       "3  35.00                      1                        4   \n",
       "4  34.00                      3                        3   \n",
       "\n",
       "   Cost to Request Ratio  Cibil score  Overdrafts past12months  \\\n",
       "0               0.842666          594                        0   \n",
       "1               0.791667          754                        0   \n",
       "2               0.727273          779                        0   \n",
       "3               0.820232          818                        0   \n",
       "4               0.455581          853                        0   \n",
       "\n",
       "   Total bounces past12months  \n",
       "0                           0  \n",
       "1                           0  \n",
       "2                           0  \n",
       "3                           0  \n",
       "4                           1  "
      ]
     },
     "execution_count": 3,
     "metadata": {},
     "output_type": "execute_result"
    }
   ],
   "source": [
    "df=pd.read_excel('Project_7_KNN_Loan_Applicant.xlsx')\n",
    "df.head()"
   ]
  },
  {
   "cell_type": "markdown",
   "id": "80066c76",
   "metadata": {},
   "source": [
    "## basic Data information"
   ]
  },
  {
   "cell_type": "code",
   "execution_count": 4,
   "id": "8ac11c14",
   "metadata": {
    "scrolled": false
   },
   "outputs": [
    {
     "name": "stdout",
     "output_type": "stream",
     "text": [
      "<class 'pandas.core.frame.DataFrame'>\n",
      "RangeIndex: 8995 entries, 0 to 8994\n",
      "Data columns (total 7 columns):\n",
      " #   Column                      Non-Null Count  Dtype  \n",
      "---  ------                      --------------  -----  \n",
      " 0   Age                         8995 non-null   float64\n",
      " 1   Total Work Experience       8995 non-null   int64  \n",
      " 2   Number of years in city     8995 non-null   int64  \n",
      " 3   Cost to Request Ratio       8995 non-null   float64\n",
      " 4   Cibil score                 8995 non-null   int64  \n",
      " 5   Overdrafts past12months     8995 non-null   int64  \n",
      " 6   Total bounces past12months  8995 non-null   int64  \n",
      "dtypes: float64(2), int64(5)\n",
      "memory usage: 492.0 KB\n"
     ]
    }
   ],
   "source": [
    "df.info()"
   ]
  },
  {
   "cell_type": "markdown",
   "id": "5428e9f3",
   "metadata": {},
   "source": [
    "## Describe Data"
   ]
  },
  {
   "cell_type": "code",
   "execution_count": 5,
   "id": "138f63e4",
   "metadata": {
    "scrolled": true
   },
   "outputs": [
    {
     "data": {
      "text/html": [
       "<div>\n",
       "<style scoped>\n",
       "    .dataframe tbody tr th:only-of-type {\n",
       "        vertical-align: middle;\n",
       "    }\n",
       "\n",
       "    .dataframe tbody tr th {\n",
       "        vertical-align: top;\n",
       "    }\n",
       "\n",
       "    .dataframe thead th {\n",
       "        text-align: right;\n",
       "    }\n",
       "</style>\n",
       "<table border=\"1\" class=\"dataframe\">\n",
       "  <thead>\n",
       "    <tr style=\"text-align: right;\">\n",
       "      <th></th>\n",
       "      <th>Age</th>\n",
       "      <th>Total Work Experience</th>\n",
       "      <th>Number of years in city</th>\n",
       "      <th>Cost to Request Ratio</th>\n",
       "      <th>Cibil score</th>\n",
       "      <th>Overdrafts past12months</th>\n",
       "      <th>Total bounces past12months</th>\n",
       "    </tr>\n",
       "  </thead>\n",
       "  <tbody>\n",
       "    <tr>\n",
       "      <th>count</th>\n",
       "      <td>8995.000000</td>\n",
       "      <td>8995.000000</td>\n",
       "      <td>8995.000000</td>\n",
       "      <td>8995.000000</td>\n",
       "      <td>8995.000000</td>\n",
       "      <td>8995.000000</td>\n",
       "      <td>8995.000000</td>\n",
       "    </tr>\n",
       "    <tr>\n",
       "      <th>mean</th>\n",
       "      <td>38.808202</td>\n",
       "      <td>2.131073</td>\n",
       "      <td>4.288160</td>\n",
       "      <td>0.831183</td>\n",
       "      <td>752.626570</td>\n",
       "      <td>0.322068</td>\n",
       "      <td>1.162757</td>\n",
       "    </tr>\n",
       "    <tr>\n",
       "      <th>std</th>\n",
       "      <td>10.203371</td>\n",
       "      <td>0.892141</td>\n",
       "      <td>1.269416</td>\n",
       "      <td>0.490216</td>\n",
       "      <td>67.645792</td>\n",
       "      <td>0.914998</td>\n",
       "      <td>2.352798</td>\n",
       "    </tr>\n",
       "    <tr>\n",
       "      <th>min</th>\n",
       "      <td>18.100000</td>\n",
       "      <td>1.000000</td>\n",
       "      <td>1.000000</td>\n",
       "      <td>0.008466</td>\n",
       "      <td>351.000000</td>\n",
       "      <td>0.000000</td>\n",
       "      <td>0.000000</td>\n",
       "    </tr>\n",
       "    <tr>\n",
       "      <th>25%</th>\n",
       "      <td>30.830000</td>\n",
       "      <td>1.000000</td>\n",
       "      <td>3.000000</td>\n",
       "      <td>0.662147</td>\n",
       "      <td>730.000000</td>\n",
       "      <td>0.000000</td>\n",
       "      <td>0.000000</td>\n",
       "    </tr>\n",
       "    <tr>\n",
       "      <th>50%</th>\n",
       "      <td>37.200000</td>\n",
       "      <td>2.000000</td>\n",
       "      <td>4.000000</td>\n",
       "      <td>0.800000</td>\n",
       "      <td>768.000000</td>\n",
       "      <td>0.000000</td>\n",
       "      <td>0.000000</td>\n",
       "    </tr>\n",
       "    <tr>\n",
       "      <th>75%</th>\n",
       "      <td>45.400000</td>\n",
       "      <td>3.000000</td>\n",
       "      <td>5.000000</td>\n",
       "      <td>0.930908</td>\n",
       "      <td>797.000000</td>\n",
       "      <td>0.000000</td>\n",
       "      <td>1.000000</td>\n",
       "    </tr>\n",
       "    <tr>\n",
       "      <th>max</th>\n",
       "      <td>83.800000</td>\n",
       "      <td>5.000000</td>\n",
       "      <td>6.000000</td>\n",
       "      <td>12.006623</td>\n",
       "      <td>882.000000</td>\n",
       "      <td>12.000000</td>\n",
       "      <td>12.000000</td>\n",
       "    </tr>\n",
       "  </tbody>\n",
       "</table>\n",
       "</div>"
      ],
      "text/plain": [
       "               Age  Total Work Experience  Number of years in city  \\\n",
       "count  8995.000000            8995.000000              8995.000000   \n",
       "mean     38.808202               2.131073                 4.288160   \n",
       "std      10.203371               0.892141                 1.269416   \n",
       "min      18.100000               1.000000                 1.000000   \n",
       "25%      30.830000               1.000000                 3.000000   \n",
       "50%      37.200000               2.000000                 4.000000   \n",
       "75%      45.400000               3.000000                 5.000000   \n",
       "max      83.800000               5.000000                 6.000000   \n",
       "\n",
       "       Cost to Request Ratio  Cibil score  Overdrafts past12months  \\\n",
       "count            8995.000000  8995.000000              8995.000000   \n",
       "mean                0.831183   752.626570                 0.322068   \n",
       "std                 0.490216    67.645792                 0.914998   \n",
       "min                 0.008466   351.000000                 0.000000   \n",
       "25%                 0.662147   730.000000                 0.000000   \n",
       "50%                 0.800000   768.000000                 0.000000   \n",
       "75%                 0.930908   797.000000                 0.000000   \n",
       "max                12.006623   882.000000                12.000000   \n",
       "\n",
       "       Total bounces past12months  \n",
       "count                 8995.000000  \n",
       "mean                     1.162757  \n",
       "std                      2.352798  \n",
       "min                      0.000000  \n",
       "25%                      0.000000  \n",
       "50%                      0.000000  \n",
       "75%                      1.000000  \n",
       "max                     12.000000  "
      ]
     },
     "execution_count": 5,
     "metadata": {},
     "output_type": "execute_result"
    }
   ],
   "source": [
    "df.describe()"
   ]
  },
  {
   "cell_type": "markdown",
   "id": "cf551146",
   "metadata": {},
   "source": [
    "## Unique values of Total bounces past12months "
   ]
  },
  {
   "cell_type": "code",
   "execution_count": 6,
   "id": "44fd480a",
   "metadata": {},
   "outputs": [
    {
     "data": {
      "text/plain": [
       "array([ 0,  1,  2,  3,  9,  7, 10,  4,  5,  8,  6, 12, 11], dtype=int64)"
      ]
     },
     "execution_count": 6,
     "metadata": {},
     "output_type": "execute_result"
    }
   ],
   "source": [
    "df['Total bounces past12months'].unique()"
   ]
  },
  {
   "cell_type": "markdown",
   "id": "eb28694c",
   "metadata": {},
   "source": [
    "## Find Nill value in data"
   ]
  },
  {
   "cell_type": "code",
   "execution_count": 7,
   "id": "3f370bce",
   "metadata": {
    "scrolled": true
   },
   "outputs": [
    {
     "data": {
      "text/plain": [
       "Age                           0\n",
       "Total Work Experience         0\n",
       "Number of years in city       0\n",
       "Cost to Request Ratio         0\n",
       "Cibil score                   0\n",
       "Overdrafts past12months       0\n",
       "Total bounces past12months    0\n",
       "dtype: int64"
      ]
     },
     "execution_count": 7,
     "metadata": {},
     "output_type": "execute_result"
    }
   ],
   "source": [
    "df.isna().sum()"
   ]
  },
  {
   "cell_type": "markdown",
   "id": "fd0c2e03",
   "metadata": {},
   "source": [
    "## there if nom Null values in data"
   ]
  },
  {
   "cell_type": "markdown",
   "id": "e199b317",
   "metadata": {},
   "source": [
    "## scatterplot between age & Total work Experience"
   ]
  },
  {
   "cell_type": "code",
   "execution_count": 8,
   "id": "3d5dc1e5",
   "metadata": {},
   "outputs": [
    {
     "data": {
      "text/plain": [
       "<AxesSubplot:xlabel='Age', ylabel='Total Work Experience'>"
      ]
     },
     "execution_count": 8,
     "metadata": {},
     "output_type": "execute_result"
    },
    {
     "data": {
      "image/png": "[encoded data removed]",
      "text/plain": [
       "<Figure size 432x288 with 1 Axes>"
      ]
     },
     "metadata": {
      "needs_background": "light"
     },
     "output_type": "display_data"
    }
   ],
   "source": [
    "sns.scatterplot(x='Age',y='Total Work Experience',data=df, hue='Total bounces past12months')"
   ]
  },
  {
   "cell_type": "markdown",
   "id": "03e4719a",
   "metadata": {},
   "source": [
    "## box plot for age"
   ]
  },
  {
   "cell_type": "code",
   "execution_count": 9,
   "id": "721aa93d",
   "metadata": {},
   "outputs": [
    {
     "data": {
      "text/plain": [
       "<AxesSubplot:xlabel='Age'>"
      ]
     },
     "execution_count": 9,
     "metadata": {},
     "output_type": "execute_result"
    },
    {
     "data": {
      "image/png": "[encoded data removed]",
      "text/plain": [
       "<Figure size 432x288 with 1 Axes>"
      ]
     },
     "metadata": {
      "needs_background": "light"
     },
     "output_type": "display_data"
    }
   ],
   "source": [
    "sns.boxplot('Age', data=df)"
   ]
  },
  {
   "cell_type": "markdown",
   "id": "586024d4",
   "metadata": {},
   "source": [
    "## box plot for Cibil score"
   ]
  },
  {
   "cell_type": "code",
   "execution_count": 10,
   "id": "c28de779",
   "metadata": {
    "scrolled": true
   },
   "outputs": [
    {
     "data": {
      "text/plain": [
       "<AxesSubplot:xlabel='Cibil score'>"
      ]
     },
     "execution_count": 10,
     "metadata": {},
     "output_type": "execute_result"
    },
    {
     "data": {
      "image/png": "[encoded data removed]",
      "text/plain": [
       "<Figure size 432x288 with 1 Axes>"
      ]
     },
     "metadata": {
      "needs_background": "light"
     },
     "output_type": "display_data"
    }
   ],
   "source": [
    "sns.boxplot('Cibil score', data=df)"
   ]
  },
  {
   "cell_type": "markdown",
   "id": "b5ed8b49",
   "metadata": {},
   "source": [
    "## Create target and features data"
   ]
  },
  {
   "cell_type": "code",
   "execution_count": 11,
   "id": "d8d169f0",
   "metadata": {},
   "outputs": [],
   "source": [
    "x=df.drop(['Total bounces past12months'], axis=1)\n",
    "y=df['Total bounces past12months']"
   ]
  },
  {
   "cell_type": "markdown",
   "id": "70f8280d",
   "metadata": {},
   "source": [
    "## Split data into training and testing"
   ]
  },
  {
   "cell_type": "code",
   "execution_count": 12,
   "id": "d59fa959",
   "metadata": {},
   "outputs": [],
   "source": [
    "from sklearn.model_selection import train_test_split"
   ]
  },
  {
   "cell_type": "code",
   "execution_count": 13,
   "id": "5e302c96",
   "metadata": {},
   "outputs": [],
   "source": [
    "x_train,x_test,y_train,y_test=train_test_split(x,y,test_size=0.2,random_state=10)"
   ]
  },
  {
   "cell_type": "markdown",
   "id": "26ddb283",
   "metadata": {},
   "source": [
    "## Model - KNN"
   ]
  },
  {
   "cell_type": "code",
   "execution_count": 14,
   "id": "81172301",
   "metadata": {},
   "outputs": [],
   "source": [
    "from sklearn.neighbors import KNeighborsClassifier"
   ]
  },
  {
   "cell_type": "code",
   "execution_count": 15,
   "id": "bbe6b089",
   "metadata": {},
   "outputs": [],
   "source": [
    "model=KNeighborsClassifier()\n",
    "model.fit(x_train,y_train)\n",
    "y_pred=model.predict(x_test)"
   ]
  },
  {
   "cell_type": "code",
   "execution_count": 16,
   "id": "f74892f3",
   "metadata": {},
   "outputs": [
    {
     "data": {
      "text/plain": [
       "0.6309060589216231"
      ]
     },
     "execution_count": 16,
     "metadata": {},
     "output_type": "execute_result"
    }
   ],
   "source": [
    "model.score(x_test,y_test)"
   ]
  },
  {
   "cell_type": "code",
   "execution_count": 17,
   "id": "4377213e",
   "metadata": {
    "scrolled": true
   },
   "outputs": [
    {
     "data": {
      "text/plain": [
       "0.6823235130628127"
      ]
     },
     "execution_count": 17,
     "metadata": {},
     "output_type": "execute_result"
    }
   ],
   "source": [
    "model.score(x_train,y_train)"
   ]
  },
  {
   "cell_type": "code",
   "execution_count": 20,
   "id": "1a587025",
   "metadata": {},
   "outputs": [],
   "source": [
    "from sklearn.metrics import confusion_matrix, accuracy_score, precision_score, recall_score, classification_report"
   ]
  },
  {
   "cell_type": "code",
   "execution_count": 21,
   "id": "c116b2ea",
   "metadata": {},
   "outputs": [
    {
     "data": {
      "text/plain": [
       "0.6309060589216231"
      ]
     },
     "execution_count": 21,
     "metadata": {},
     "output_type": "execute_result"
    }
   ],
   "source": [
    "accuracy_score(y_pred,y_test)"
   ]
  },
  {
   "cell_type": "code",
   "execution_count": 22,
   "id": "3649bd71",
   "metadata": {},
   "outputs": [
    {
     "data": {
      "text/plain": [
       "<AxesSubplot:>"
      ]
     },
     "execution_count": 22,
     "metadata": {},
     "output_type": "execute_result"
    },
    {
     "data": {
      "image/png": "[encoded data removed]",
      "text/plain": [
       "<Figure size 432x288 with 2 Axes>"
      ]
     },
     "metadata": {
      "needs_background": "light"
     },
     "output_type": "display_data"
    }
   ],
   "source": [
    "sns.heatmap(confusion_matrix(y_pred,y_test),annot=True,fmt='d')"
   ]
  },
  {
   "cell_type": "markdown",
   "id": "0bd913ce",
   "metadata": {},
   "source": [
    "##  whith different K values, K range 1 to 15"
   ]
  },
  {
   "cell_type": "code",
   "execution_count": 23,
   "id": "168d668b",
   "metadata": {},
   "outputs": [
    {
     "name": "stdout",
     "output_type": "stream",
     "text": [
      "1 test score : 0.5336297943301834\n",
      "1 train score : 1.0\n",
      "\n",
      "2 test score : 0.6175653140633686\n",
      "2 train score : 0.7468037798777099\n",
      "\n",
      "3 test score : 0.6153418565869928\n",
      "3 train score : 0.7133129516397999\n",
      "\n",
      "4 test score : 0.6242356864924958\n",
      "4 train score : 0.6906614785992218\n",
      "\n",
      "5 test score : 0.6309060589216231\n",
      "5 train score : 0.6823235130628127\n",
      "\n",
      "6 test score : 0.6364647026125625\n",
      "6 train score : 0.6753752084491385\n",
      "\n",
      "7 test score : 0.6370205669816564\n",
      "7 train score : 0.6707893274041133\n",
      "\n",
      "8 test score : 0.6336853807670928\n",
      "8 train score : 0.6657865480822679\n",
      "\n",
      "9 test score : 0.6347971095052807\n",
      "9 train score : 0.6663424124513618\n",
      "\n",
      "10 test score : 0.6392440244580322\n",
      "10 train score : 0.6641189549749861\n",
      "\n",
      "11 test score : 0.642023346303502\n",
      "11 train score : 0.6613396331295164\n",
      "\n",
      "12 test score : 0.6397998888271261\n",
      "12 train score : 0.660366870483602\n",
      "\n",
      "13 test score : 0.6403557531962201\n",
      "13 train score : 0.6589772095608671\n",
      "\n",
      "14 test score : 0.6403557531962201\n",
      "14 train score : 0.6592551417454141\n",
      "\n"
     ]
    }
   ],
   "source": [
    "for i in range(1,15):\n",
    "    model1=KNeighborsClassifier(i)\n",
    "    model1.fit(x_train,y_train)\n",
    "    y_pred=model.predict(x_test)\n",
    "    print(f'{i} test score : {model1.score(x_test,y_test)}')\n",
    "    print(f'{i} train score : {model1.score(x_train,y_train)}\\n')"
   ]
  },
  {
   "cell_type": "markdown",
   "id": "f8e90c5b",
   "metadata": {},
   "source": [
    "##  Applying All Algorithm "
   ]
  },
  {
   "cell_type": "code",
   "execution_count": 24,
   "id": "bb7dcfed",
   "metadata": {},
   "outputs": [],
   "source": [
    "from sklearn.linear_model import LogisticRegression,SGDClassifier\n",
    "from sklearn.tree import DecisionTreeClassifier\n",
    "from sklearn.ensemble import RandomForestClassifier, GradientBoostingClassifier,AdaBoostClassifier\n",
    "from sklearn.neighbors import KNeighborsClassifier\n",
    "from sklearn.svm import SVC\n",
    "from sklearn.naive_bayes import GaussianNB\n",
    "from sklearn.discriminant_analysis import LinearDiscriminantAnalysis, QuadraticDiscriminantAnalysis"
   ]
  },
  {
   "cell_type": "code",
   "execution_count": 25,
   "id": "84cf0bde",
   "metadata": {},
   "outputs": [],
   "source": [
    "models={'lr':LogisticRegression(),\n",
    "        'sg':SGDClassifier(),\n",
    "        'tree':DecisionTreeClassifier(),\n",
    "        'rf':RandomForestClassifier(),\n",
    "        'gb':GradientBoostingClassifier(),\n",
    "        'knn':KNeighborsClassifier(),\n",
    "        'svm':SVC(),\n",
    "        'ad':AdaBoostClassifier(),\n",
    "        'nb':GaussianNB(),\n",
    "        'lda':LinearDiscriminantAnalysis(),\n",
    "        'qda':QuadraticDiscriminantAnalysis()\n",
    "       }"
   ]
  },
  {
   "cell_type": "code",
   "execution_count": 26,
   "id": "18fe48b5",
   "metadata": {
    "scrolled": false
   },
   "outputs": [
    {
     "name": "stdout",
     "output_type": "stream",
     "text": [
      "lr confuion matrix: \n",
      " [[1149    0    0    1    0    0    0    0    0    0    0    0    0]\n",
      " [ 281    0    0    0    0    0    0    0    0    0    0    0    0]\n",
      " [ 108    0    0    0    0    0    1    0    0    0    0    0    0]\n",
      " [  68    1    0    0    0    0    0    0    0    0    0    0    0]\n",
      " [  37    6    0    0    0    0    0    0    0    0    0    0    0]\n",
      " [  23    5    0    0    0    0    0    0    0    0    0    0    0]\n",
      " [  20    9    1    0    0    0    0    0    0    0    0    0    0]\n",
      " [  15    4    0    0    0    0    0    0    0    0    0    0    0]\n",
      " [  13    5    1    0    0    0    1    0    0    0    0    0    0]\n",
      " [   7    8    1    0    0    0    0    0    0    0    0    0    0]\n",
      " [  10    5    0    0    0    0    0    0    0    0    0    0    0]\n",
      " [   5    5    1    0    0    0    0    0    0    0    0    0    0]\n",
      " [   4    4    0    0    0    0    0    0    0    0    0    0    0]]\n",
      "lr accuracy score: 0.6386881600889383\n",
      "lr classification report :\n",
      "               precision    recall  f1-score   support\n",
      "\n",
      "           0       0.66      1.00      0.80      1150\n",
      "           1       0.00      0.00      0.00       281\n",
      "           2       0.00      0.00      0.00       109\n",
      "           3       0.00      0.00      0.00        69\n",
      "           4       0.00      0.00      0.00        43\n",
      "           5       0.00      0.00      0.00        28\n",
      "           6       0.00      0.00      0.00        30\n",
      "           7       0.00      0.00      0.00        19\n",
      "           8       0.00      0.00      0.00        20\n",
      "           9       0.00      0.00      0.00        16\n",
      "          10       0.00      0.00      0.00        15\n",
      "          11       0.00      0.00      0.00        11\n",
      "          12       0.00      0.00      0.00         8\n",
      "\n",
      "    accuracy                           0.64      1799\n",
      "   macro avg       0.05      0.08      0.06      1799\n",
      "weighted avg       0.42      0.64      0.51      1799\n",
      "\n",
      "\n",
      "\n",
      "sg confuion matrix: \n",
      " [[1149    0    0    0    0    1    0    0    0    0    0    0    0]\n",
      " [ 264    0    0    0    0   17    0    0    0    0    0    0    0]\n",
      " [ 100    0    0    0    0    9    0    0    0    0    0    0    0]\n",
      " [  60    0    0    0    0    9    0    0    0    0    0    0    0]\n",
      " [  34    0    0    0    0    9    0    0    0    0    0    0    0]\n",
      " [  19    0    0    0    0    9    0    0    0    0    0    0    0]\n",
      " [  17    0    0    0    0   13    0    0    0    0    0    0    0]\n",
      " [  13    0    0    0    0    6    0    0    0    0    0    0    0]\n",
      " [  10    0    0    0    0   10    0    0    0    0    0    0    0]\n",
      " [   6    0    0    0    0   10    0    0    0    0    0    0    0]\n",
      " [   8    0    0    0    0    7    0    0    0    0    0    0    0]\n",
      " [   3    0    0    0    0    8    0    0    0    0    0    0    0]\n",
      " [   1    0    0    0    0    7    0    0    0    0    0    0    0]]\n",
      "sg accuracy score: 0.6436909394107838\n",
      "sg classification report :\n",
      "               precision    recall  f1-score   support\n",
      "\n",
      "           0       0.68      1.00      0.81      1150\n",
      "           1       0.00      0.00      0.00       281\n",
      "           2       0.00      0.00      0.00       109\n",
      "           3       0.00      0.00      0.00        69\n",
      "           4       0.00      0.00      0.00        43\n",
      "           5       0.08      0.32      0.13        28\n",
      "           6       0.00      0.00      0.00        30\n",
      "           7       0.00      0.00      0.00        19\n",
      "           8       0.00      0.00      0.00        20\n",
      "           9       0.00      0.00      0.00        16\n",
      "          10       0.00      0.00      0.00        15\n",
      "          11       0.00      0.00      0.00        11\n",
      "          12       0.00      0.00      0.00         8\n",
      "\n",
      "    accuracy                           0.64      1799\n",
      "   macro avg       0.06      0.10      0.07      1799\n",
      "weighted avg       0.44      0.64      0.52      1799\n",
      "\n",
      "\n",
      "\n",
      "tree confuion matrix: \n",
      " [[944 106  43  27  14   9   3   2   1   0   1   0   0]\n",
      " [130  61  28  16  13   9   7   7   1   2   4   1   2]\n",
      " [ 42  22  12  12   2   2   5   2   2   4   1   1   2]\n",
      " [ 21  13  13   7   5   5   0   2   1   1   0   1   0]\n",
      " [  9   8  11   3   1   2   1   1   4   0   1   1   1]\n",
      " [  8   3   7   2   2   1   0   1   2   2   0   0   0]\n",
      " [  8   6   2   2   0   2   1   1   2   2   1   3   0]\n",
      " [  6   1   1   2   1   1   3   0   1   2   1   0   0]\n",
      " [  2   2   1   0   1   1   2   4   2   2   0   2   1]\n",
      " [  0   2   2   1   0   1   1   2   0   2   1   4   0]\n",
      " [  2   2   0   1   0   2   2   2   0   1   1   1   1]\n",
      " [  0   1   0   0   1   2   1   2   0   1   0   2   1]\n",
      " [  0   2   1   0   0   0   1   0   0   2   1   0   1]]\n",
      "tree accuracy score: 0.575319622012229\n",
      "tree classification report :\n",
      "               precision    recall  f1-score   support\n",
      "\n",
      "           0       0.81      0.82      0.81      1150\n",
      "           1       0.27      0.22      0.24       281\n",
      "           2       0.10      0.11      0.10       109\n",
      "           3       0.10      0.10      0.10        69\n",
      "           4       0.03      0.02      0.02        43\n",
      "           5       0.03      0.04      0.03        28\n",
      "           6       0.04      0.03      0.04        30\n",
      "           7       0.00      0.00      0.00        19\n",
      "           8       0.12      0.10      0.11        20\n",
      "           9       0.10      0.12      0.11        16\n",
      "          10       0.08      0.07      0.07        15\n",
      "          11       0.12      0.18      0.15        11\n",
      "          12       0.11      0.12      0.12         8\n",
      "\n",
      "    accuracy                           0.58      1799\n",
      "   macro avg       0.15      0.15      0.15      1799\n",
      "weighted avg       0.57      0.58      0.57      1799\n",
      "\n",
      "\n",
      "\n",
      "rf confuion matrix: \n",
      " [[1137    7    3    0    0    2    1    0    0    0    0    0    0]\n",
      " [ 174   62   24    7    5    4    1    2    2    0    0    0    0]\n",
      " [  57   24    8    8    2    5    1    1    0    1    1    0    1]\n",
      " [  28   19    6    4    3    4    0    1    0    2    0    2    0]\n",
      " [  13   11    7    4    1    0    1    0    2    1    1    1    1]\n",
      " [  10    6    4    1    0    1    0    3    2    0    0    0    1]\n",
      " [  10    4    2    0    1    1    0    4    1    4    1    1    1]\n",
      " [   6    6    2    1    1    0    0    0    2    1    0    0    0]\n",
      " [   3    5    1    1    3    0    0    1    2    1    1    1    1]\n",
      " [   0    2    3    1    0    0    0    1    2    2    0    4    1]\n",
      " [   2    4    0    0    2    1    2    0    0    1    0    2    1]\n",
      " [   0    2    0    0    0    0    1    2    0    3    0    2    1]\n",
      " [   0    2    0    1    0    0    1    0    2    1    1    0    0]]\n",
      "rf accuracy score: 0.6775986659255142\n",
      "rf classification report :\n",
      "               precision    recall  f1-score   support\n",
      "\n",
      "           0       0.79      0.99      0.88      1150\n",
      "           1       0.40      0.22      0.29       281\n",
      "           2       0.13      0.07      0.09       109\n",
      "           3       0.14      0.06      0.08        69\n",
      "           4       0.06      0.02      0.03        43\n",
      "           5       0.06      0.04      0.04        28\n",
      "           6       0.00      0.00      0.00        30\n",
      "           7       0.00      0.00      0.00        19\n",
      "           8       0.13      0.10      0.11        20\n",
      "           9       0.12      0.12      0.12        16\n",
      "          10       0.00      0.00      0.00        15\n",
      "          11       0.15      0.18      0.17        11\n",
      "          12       0.00      0.00      0.00         8\n",
      "\n",
      "    accuracy                           0.68      1799\n",
      "   macro avg       0.15      0.14      0.14      1799\n",
      "weighted avg       0.59      0.68      0.62      1799\n",
      "\n",
      "\n",
      "\n",
      "gb confuion matrix: \n",
      " [[1133    6    0    1    2    2    2    1    3    0    0    0    0]\n",
      " [ 177   79   11    4    2    4    0    1    1    0    1    1    0]\n",
      " [  58   33    7    3    0    3    0    2    1    0    1    0    1]\n",
      " [  29   28    3    1    0    5    0    2    0    0    0    1    0]\n",
      " [  12   15    3    2    1    3    0    2    1    2    1    0    1]\n",
      " [  10    9    3    0    0    2    1    1    0    0    1    1    0]\n",
      " [  10    7    1    0    1    0    1    2    2    1    2    3    0]\n",
      " [   6    8    0    0    0    0    1    1    2    1    0    0    0]\n",
      " [   2    7    2    1    0    1    2    1    1    3    0    0    0]\n",
      " [   0    4    1    1    1    0    0    1    1    1    1    5    0]\n",
      " [   2    7    0    1    0    2    0    0    1    1    0    1    0]\n",
      " [   0    3    0    0    0    0    1    1    0    3    1    1    1]\n",
      " [   0    3    0    0    0    0    1    0    2    1    0    1    0]]\n",
      "gb accuracy score: 0.6826014452473597\n",
      "gb classification report :\n",
      "               precision    recall  f1-score   support\n",
      "\n",
      "           0       0.79      0.99      0.88      1150\n",
      "           1       0.38      0.28      0.32       281\n",
      "           2       0.23      0.06      0.10       109\n",
      "           3       0.07      0.01      0.02        69\n",
      "           4       0.14      0.02      0.04        43\n",
      "           5       0.09      0.07      0.08        28\n",
      "           6       0.11      0.03      0.05        30\n",
      "           7       0.07      0.05      0.06        19\n",
      "           8       0.07      0.05      0.06        20\n",
      "           9       0.08      0.06      0.07        16\n",
      "          10       0.00      0.00      0.00        15\n",
      "          11       0.07      0.09      0.08        11\n",
      "          12       0.00      0.00      0.00         8\n",
      "\n",
      "    accuracy                           0.68      1799\n",
      "   macro avg       0.16      0.13      0.14      1799\n",
      "weighted avg       0.59      0.68      0.62      1799\n",
      "\n",
      "\n",
      "\n"
     ]
    },
    {
     "name": "stdout",
     "output_type": "stream",
     "text": [
      "knn confuion matrix: \n",
      " [[1108   34    6    1    1    0    0    0    0    0    0    0    0]\n",
      " [ 252   23    3    1    0    1    0    0    0    1    0    0    0]\n",
      " [ 101    6    2    0    0    0    0    0    0    0    0    0    0]\n",
      " [  62    6    1    0    0    0    0    0    0    0    0    0    0]\n",
      " [  36    4    1    0    0    1    0    0    0    0    0    0    1]\n",
      " [  24    2    1    0    0    0    0    0    0    0    1    0    0]\n",
      " [  25    3    0    0    0    0    1    1    0    0    0    0    0]\n",
      " [  17    1    0    0    0    0    0    0    0    0    0    0    1]\n",
      " [  14    4    0    1    0    0    0    0    0    0    0    0    1]\n",
      " [   9    1    2    0    2    0    0    0    0    1    0    1    0]\n",
      " [  13    2    0    0    0    0    0    0    0    0    0    0    0]\n",
      " [   7    1    0    0    0    1    0    0    2    0    0    0    0]\n",
      " [   5    1    0    0    0    0    0    0    1    1    0    0    0]]\n",
      "knn accuracy score: 0.6309060589216231\n",
      "knn classification report :\n",
      "               precision    recall  f1-score   support\n",
      "\n",
      "           0       0.66      0.96      0.78      1150\n",
      "           1       0.26      0.08      0.12       281\n",
      "           2       0.12      0.02      0.03       109\n",
      "           3       0.00      0.00      0.00        69\n",
      "           4       0.00      0.00      0.00        43\n",
      "           5       0.00      0.00      0.00        28\n",
      "           6       1.00      0.03      0.06        30\n",
      "           7       0.00      0.00      0.00        19\n",
      "           8       0.00      0.00      0.00        20\n",
      "           9       0.33      0.06      0.11        16\n",
      "          10       0.00      0.00      0.00        15\n",
      "          11       0.00      0.00      0.00        11\n",
      "          12       0.00      0.00      0.00         8\n",
      "\n",
      "    accuracy                           0.63      1799\n",
      "   macro avg       0.18      0.09      0.09      1799\n",
      "weighted avg       0.49      0.63      0.53      1799\n",
      "\n",
      "\n",
      "\n",
      "svm confuion matrix: \n",
      " [[1150    0    0    0    0    0    0    0    0    0    0    0    0]\n",
      " [ 281    0    0    0    0    0    0    0    0    0    0    0    0]\n",
      " [ 109    0    0    0    0    0    0    0    0    0    0    0    0]\n",
      " [  69    0    0    0    0    0    0    0    0    0    0    0    0]\n",
      " [  43    0    0    0    0    0    0    0    0    0    0    0    0]\n",
      " [  28    0    0    0    0    0    0    0    0    0    0    0    0]\n",
      " [  30    0    0    0    0    0    0    0    0    0    0    0    0]\n",
      " [  19    0    0    0    0    0    0    0    0    0    0    0    0]\n",
      " [  20    0    0    0    0    0    0    0    0    0    0    0    0]\n",
      " [  16    0    0    0    0    0    0    0    0    0    0    0    0]\n",
      " [  15    0    0    0    0    0    0    0    0    0    0    0    0]\n",
      " [  11    0    0    0    0    0    0    0    0    0    0    0    0]\n",
      " [   8    0    0    0    0    0    0    0    0    0    0    0    0]]\n",
      "svm accuracy score: 0.6392440244580322\n",
      "svm classification report :\n",
      "               precision    recall  f1-score   support\n",
      "\n",
      "           0       0.64      1.00      0.78      1150\n",
      "           1       0.00      0.00      0.00       281\n",
      "           2       0.00      0.00      0.00       109\n",
      "           3       0.00      0.00      0.00        69\n",
      "           4       0.00      0.00      0.00        43\n",
      "           5       0.00      0.00      0.00        28\n",
      "           6       0.00      0.00      0.00        30\n",
      "           7       0.00      0.00      0.00        19\n",
      "           8       0.00      0.00      0.00        20\n",
      "           9       0.00      0.00      0.00        16\n",
      "          10       0.00      0.00      0.00        15\n",
      "          11       0.00      0.00      0.00        11\n",
      "          12       0.00      0.00      0.00         8\n",
      "\n",
      "    accuracy                           0.64      1799\n",
      "   macro avg       0.05      0.08      0.06      1799\n",
      "weighted avg       0.41      0.64      0.50      1799\n",
      "\n",
      "\n",
      "\n",
      "ad confuion matrix: \n",
      " [[944 182  22   0   0   0   2   0   0   0   0   0   0]\n",
      " [146  85  44   3   1   0   2   0   0   0   0   0   0]\n",
      " [ 44  43  13   5   0   1   0   0   1   0   0   0   2]\n",
      " [ 25  25  13   1   0   1   0   0   0   1   0   0   3]\n",
      " [  9  20   3   3   0   1   0   1   0   1   0   3   2]\n",
      " [ 10   9   3   0   0   0   2   0   2   2   0   0   0]\n",
      " [  8   6   4   0   0   0   0   2   0   2   1   4   3]\n",
      " [  6   7   2   0   0   0   0   0   0   1   0   1   2]\n",
      " [  1   7   2   0   0   1   2   0   1   2   1   1   2]\n",
      " [  0   4   2   0   1   0   0   0   0   2   2   0   5]\n",
      " [  2   6   1   1   0   0   0   0   0   2   0   1   2]\n",
      " [  0   3   0   0   0   0   1   1   0   1   0   3   2]\n",
      " [  0   1   2   0   0   0   0   0   2   0   0   2   1]]\n",
      "ad accuracy score: 0.5836575875486382\n",
      "ad classification report :\n",
      "               precision    recall  f1-score   support\n",
      "\n",
      "           0       0.79      0.82      0.81      1150\n",
      "           1       0.21      0.30      0.25       281\n",
      "           2       0.12      0.12      0.12       109\n",
      "           3       0.08      0.01      0.02        69\n",
      "           4       0.00      0.00      0.00        43\n",
      "           5       0.00      0.00      0.00        28\n",
      "           6       0.00      0.00      0.00        30\n",
      "           7       0.00      0.00      0.00        19\n",
      "           8       0.17      0.05      0.08        20\n",
      "           9       0.14      0.12      0.13        16\n",
      "          10       0.00      0.00      0.00        15\n",
      "          11       0.20      0.27      0.23        11\n",
      "          12       0.04      0.12      0.06         8\n",
      "\n",
      "    accuracy                           0.58      1799\n",
      "   macro avg       0.13      0.14      0.13      1799\n",
      "weighted avg       0.55      0.58      0.57      1799\n",
      "\n",
      "\n",
      "\n",
      "nb confuion matrix: \n",
      " [[1143    6    0    0    0    0    0    0    0    0    0    1    0]\n",
      " [ 177  101    2    0    1    0    0    0    0    0    0    0    0]\n",
      " [  57   48    0    0    0    0    2    1    0    0    0    1    0]\n",
      " [  29   36    0    0    0    0    2    1    0    0    1    0    0]\n",
      " [  13   23    0    0    0    1    1    0    4    0    1    0    0]\n",
      " [  10   12    0    2    0    0    1    0    3    0    0    0    0]\n",
      " [  10    8    0    0    0    1    4    5    1    1    0    0    0]\n",
      " [   6    8    0    0    0    1    0    0    2    1    1    0    0]\n",
      " [   2    9    0    1    0    2    0    2    2    0    0    1    1]\n",
      " [   0    6    0    0    0    0    1    2    3    0    1    0    3]\n",
      " [   2    8    0    0    0    0    0    2    1    0    0    0    2]\n",
      " [   0    3    0    0    0    1    2    0    1    0    2    1    1]\n",
      " [   0    3    0    0    0    0    1    1    2    0    0    0    1]]\n",
      "nb accuracy score: 0.6959421901056142\n",
      "nb classification report :\n",
      "               precision    recall  f1-score   support\n",
      "\n",
      "           0       0.79      0.99      0.88      1150\n",
      "           1       0.37      0.36      0.37       281\n",
      "           2       0.00      0.00      0.00       109\n",
      "           3       0.00      0.00      0.00        69\n",
      "           4       0.00      0.00      0.00        43\n",
      "           5       0.00      0.00      0.00        28\n",
      "           6       0.29      0.13      0.18        30\n",
      "           7       0.00      0.00      0.00        19\n",
      "           8       0.11      0.10      0.10        20\n",
      "           9       0.00      0.00      0.00        16\n",
      "          10       0.00      0.00      0.00        15\n",
      "          11       0.25      0.09      0.13        11\n",
      "          12       0.12      0.12      0.12         8\n",
      "\n",
      "    accuracy                           0.70      1799\n",
      "   macro avg       0.15      0.14      0.14      1799\n",
      "weighted avg       0.57      0.70      0.62      1799\n",
      "\n",
      "\n",
      "\n",
      "lda confuion matrix: \n",
      " [[1150    0    0    0    0    0    0    0    0    0    0    0    0]\n",
      " [ 281    0    0    0    0    0    0    0    0    0    0    0    0]\n",
      " [ 106    0    0    0    0    0    1    1    1    0    0    0    0]\n",
      " [  65    0    0    0    0    0    1    2    0    1    0    0    0]\n",
      " [  36    0    0    0    0    0    1    1    0    2    0    0    3]\n",
      " [  22    0    0    0    0    0    1    1    0    1    0    0    3]\n",
      " [  19    0    0    0    0    0    1    2    1    4    0    2    1]\n",
      " [  15    0    0    0    0    0    0    0    1    1    0    0    2]\n",
      " [  11    0    0    0    0    0    0    0    4    1    0    0    4]\n",
      " [   6    0    0    0    0    0    0    2    0    1    0    0    7]\n",
      " [  10    0    0    0    0    0    0    1    0    2    0    0    2]\n",
      " [   3    0    0    0    0    0    2    0    0    1    0    0    5]\n",
      " [   3    0    0    0    0    0    0    1    1    1    0    0    2]]\n",
      "lda accuracy score: 0.6436909394107838\n",
      "lda classification report :\n",
      "               precision    recall  f1-score   support\n",
      "\n",
      "           0       0.67      1.00      0.80      1150\n",
      "           1       0.00      0.00      0.00       281\n",
      "           2       0.00      0.00      0.00       109\n",
      "           3       0.00      0.00      0.00        69\n",
      "           4       0.00      0.00      0.00        43\n",
      "           5       0.00      0.00      0.00        28\n",
      "           6       0.14      0.03      0.05        30\n",
      "           7       0.00      0.00      0.00        19\n",
      "           8       0.50      0.20      0.29        20\n",
      "           9       0.07      0.06      0.06        16\n",
      "          10       0.00      0.00      0.00        15\n",
      "          11       0.00      0.00      0.00        11\n",
      "          12       0.07      0.25      0.11         8\n",
      "\n",
      "    accuracy                           0.64      1799\n",
      "   macro avg       0.11      0.12      0.10      1799\n",
      "weighted avg       0.43      0.64      0.52      1799\n",
      "\n",
      "\n",
      "\n",
      "qda confuion matrix: \n",
      " [[1143    5    1    0    0    0    0    0    0    0    0    1    0]\n",
      " [ 177  100    2    1    1    0    0    0    0    0    0    0    0]\n",
      " [  57   48    0    0    0    0    1    2    0    0    0    1    0]\n",
      " [  29   35    1    1    0    0    1    2    0    0    0    0    0]\n",
      " [  13   22    1    0    0    1    1    1    2    0    1    0    1]\n",
      " [  10   12    0    1    1    0    1    0    3    0    0    0    0]\n",
      " [  10    8    0    1    0    1    2    5    2    1    0    0    0]\n",
      " [   6    9    0    0    0    1    1    0    1    1    0    0    0]\n",
      " [   2    9    0    0    0    3    0    2    2    0    0    1    1]\n",
      " [   0    6    0    0    0    0    2    1    1    3    0    0    3]\n",
      " [   2    8    0    0    0    0    0    3    0    0    0    0    2]\n",
      " [   0    3    0    0    0    1    2    0    0    0    1    0    4]\n",
      " [   0    3    0    0    0    0    2    0    1    1    0    0    1]]\n",
      "qda accuracy score: 0.6959421901056142\n",
      "qda classification report :\n",
      "               precision    recall  f1-score   support\n",
      "\n",
      "           0       0.79      0.99      0.88      1150\n",
      "           1       0.37      0.36      0.36       281\n",
      "           2       0.00      0.00      0.00       109\n",
      "           3       0.25      0.01      0.03        69\n",
      "           4       0.00      0.00      0.00        43\n",
      "           5       0.00      0.00      0.00        28\n",
      "           6       0.15      0.07      0.09        30\n",
      "           7       0.00      0.00      0.00        19\n",
      "           8       0.17      0.10      0.12        20\n",
      "           9       0.50      0.19      0.27        16\n",
      "          10       0.00      0.00      0.00        15\n",
      "          11       0.00      0.00      0.00        11\n",
      "          12       0.08      0.12      0.10         8\n",
      "\n",
      "    accuracy                           0.70      1799\n",
      "   macro avg       0.18      0.14      0.14      1799\n",
      "weighted avg       0.58      0.70      0.63      1799\n",
      "\n",
      "\n",
      "\n"
     ]
    }
   ],
   "source": [
    "for name, model in models.items():\n",
    "    model1=model.fit(x_train,y_train)\n",
    "    y_pred = model1.predict(x_test)\n",
    "    print(f\"{name} confuion matrix: \\n {confusion_matrix(y_test,y_pred)}\") \n",
    "    print(f'{name} accuracy score: {accuracy_score(y_test, y_pred)}')\n",
    "#     print(f'{name} precision score: {precision_score(y_test,y_pred)}')\n",
    "#     print(f'{name} recall score: {recall_score(y_test,y_pred)}')\n",
    "    print(f'{name} classification report :\\n {classification_report(y_test,y_pred)}\\n\\n')"
   ]
  },
  {
   "cell_type": "code",
   "execution_count": null,
   "id": "222c55f6",
   "metadata": {},
   "outputs": [],
   "source": []
  }
 ],
 "metadata": {
  "kernelspec": {
   "display_name": "Python 3",
   "language": "python",
   "name": "python3"
  },
  "language_info": {
   "codemirror_mode": {
    "name": "ipython",
    "version": 3
   },
   "file_extension": ".py",
   "mimetype": "text/x-python",
   "name": "python",
   "nbconvert_exporter": "python",
   "pygments_lexer": "ipython3",
   "version": "3.8.8"
  }
 },
 "nbformat": 4,
 "nbformat_minor": 5
}
